{
 "metadata": {
  "language_info": {
   "codemirror_mode": {
    "name": "ipython",
    "version": 3
   },
   "file_extension": ".py",
   "mimetype": "text/x-python",
   "name": "python",
   "nbconvert_exporter": "python",
   "pygments_lexer": "ipython3",
   "version": 3
  },
  "orig_nbformat": 2
 },
 "nbformat": 4,
 "nbformat_minor": 2,
 "cells": [
  {
   "cell_type": "markdown",
   "metadata": {},
   "source": [
    "<h1 align=\"center\">Clustering Covid-19 Cases in Toronto - Canada</h1>"
   ]
  },
  {
   "cell_type": "markdown",
   "metadata": {},
   "source": [
    "<p aling=\"justify\">In this notebook we will analyzing and clustering the Covid-19 cases in the city of Toronto, Canada. The data source to do this task will be downloaded from the following url: <a href=\"https://open.toronto.ca/dataset/covid-19-cases-in-toronto/\">Toronto Covid Data</a> as an csv file. This data has been updated at July 15, 2020. To complement this project requirements we will use a csv archive which contains the coordinates for each postal code in Toronto, it will be downloaded from the url: <a href=\"https://cocl.us/Geospatial_data\">Toronto Postal Code Coordinates</a>. Let's begin with the work</p>"
   ]
  }
 ]
}