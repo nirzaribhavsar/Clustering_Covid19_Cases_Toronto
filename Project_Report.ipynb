{
 "metadata": {
  "language_info": {
   "codemirror_mode": {
    "name": "ipython",
    "version": 3
   },
   "file_extension": ".py",
   "mimetype": "text/x-python",
   "name": "python",
   "nbconvert_exporter": "python",
   "pygments_lexer": "ipython3",
   "version": 3
  },
  "orig_nbformat": 2,
  "kernelspec": {
   "name": "python_defaultSpec_1596238880744",
   "display_name": "Python 3.7.6 64-bit ('johnjairo.ramirez': virtualenv)"
  }
 },
 "nbformat": 4,
 "nbformat_minor": 2,
 "cells": [
  {
   "cell_type": "markdown",
   "metadata": {},
   "source": [
    "<h1 align=\"center\">Clustering Covid-19 Cases in Toronto - Canada</h1>"
   ]
  },
  {
   "cell_type": "markdown",
   "metadata": {},
   "source": [
    "<h2>1. Introduction</h2><br>"
   ]
  },
  {
   "cell_type": "markdown",
   "metadata": {},
   "source": [
    "<h3>1.1 Background</h3>\n",
    "<p align=\"justify\">This year, we are struggling with the Covid – 19 all over the world. This disease has caused thousands of deaths and millions of persons has been infected. Furthermore, we still have not found the vaccine neither and effective treatment to fight this terrible virus. The countries all over the world, has been taking actions like quarantine its population, closing borders and fine the people that are not wearing a facemask to avoid infecting or get infected by the virus.\n",
    "North America is the region with most people affected with this virus with USA in the top of people infected and deceased because of the Covid -19. Despite of this, Canada have been taking excellent actions to avoid the same level of affections and this country, at this moment, has controlling the virus expansion in their territory.\n",
    "Why is happen this in Canada? Well, if we want an insight of how the virus is affecting Canada, we must take this country biggest city  (Toronto) as an example an  see how the Covid -19 evolved there.</p>"
   ]
  },
  {
   "cell_type": "markdown",
   "metadata": {},
   "source": [
    "<h3>1.2 Problem</h3>\n",
    "<p align=\"justify\">We know that Toronto is the most diverse city in the world, a lot of immigrants, international students, workers, and others, decide to live in this beautiful city. Despite of the government restrictions to travel to Canada, there are al lot of movement through their airports,              terminals, and ports. So, that people must have the information about what are the Covid – 19 hot spots in the city.\n",
    "This project objective is to have a good insight about which are the most affected zones in Toronto with Covid -19, exploring the best venues in each neigborhood and cluster the neighborhoods with most infected people to avoid this places at least, until the global emergency ends.</p>"
   ]
  },
  {
   "cell_type": "markdown",
   "metadata": {},
   "source": [
    "<h3>1.3 Interest</h3>\n",
    "<p align=\"justify\">Persons and families arriving in Toronto who wants to know the safest neighborhoods in the city where they can live in and their common venues.</p>"
   ]
  },
  {
   "cell_type": "markdown",
   "metadata": {},
   "source": [
    " <h2>2. Data Description</h2>"
   ]
  },
  {
   "cell_type": "markdown",
   "metadata": {},
   "source": [
    "<h3>2.1 Data Source</h3>\n",
    "<p align=\"justify\">This project will manage two data sources. The first data source will come from the official Toronto city data repository named  open Toronto, specifically from the next url: <a href=\"https://open.toronto.ca/dataset/covid-19-cases-in-toronto/\">Toronto Covid Data</a> in this url it must be downloaded a csv file which contains the following features:\n",
    "            <ul>\n",
    "                <li>_id</li>\n",
    "                <li>Outbreak Associated</li>\n",
    "                <li>Age Group</li>\n",
    "                <li>Neighbourhood Name</li>\n",
    "                <li>FSA</li>\n",
    "                <li>Source of Infection</li>\n",
    "                <li>Classification</li>\n",
    "                <li>Episode Date</li>\n",
    "                <li>Reported Date</li>\n",
    "                <li>Client Gender</li>\n",
    "                <li>Outcome</li>\n",
    "                <li>Currently Hospitalized</li>\n",
    "                <li>Currently in ICU</li>\n",
    "                <li>Currently Intubated</li>\n",
    "                <li>Ever Hospitalized</li>\n",
    "                <li>Ever in ICU</li>\n",
    "                <li>Ever Intubated</li>\n",
    "            </ul><br>\n",
    "The second data source will be a csv file as well. This file is one that was used in the week 3 assignment, the geospatial coordinates for Toronto postal codes. The link through this file will be downloaded is <a href=\"https://cocl.us/Geospatial_data\">Toronto Postal Code Coordinates</a> and their features are:<br>\n",
    "            <ul>\n",
    "                <li>Postal Code</li>\n",
    "                <li>Latitude</li>\n",
    "                <li>Longitude</li>\n",
    "            </ul>\n",
    "            </p>"
   ]
  },
  {
   "cell_type": "markdown",
   "metadata": {},
   "source": [
    "<h3>2.2 Data Approach</h3>\n",
    "<p align=\"justify\">With the Covid-19 cases data is possible to obtain a deep insight to see which are the neighborhoods where the virus is most active and the venues with hot spots of active infected persons. This will help to identify the best places where the newcomers can rent a house avoiding the worst areas. Of course, it is necessary to manipulate, normalize and merge the data from the both sources. \n",
    "The Covid-19 cases data will be the source with most changes because, at a first glance, some of the features are not necessary to solve the problem. Almost all the work for this will be done through the pandas library and its modules and functions.</p>"
   ]
  },
  {
   "cell_type": "code",
   "execution_count": null,
   "metadata": {},
   "outputs": [],
   "source": []
  }
 ]
}