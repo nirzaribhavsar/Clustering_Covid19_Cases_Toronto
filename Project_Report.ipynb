{
 "metadata": {
  "language_info": {
   "codemirror_mode": {
    "name": "ipython",
    "version": 3
   },
   "file_extension": ".py",
   "mimetype": "text/x-python",
   "name": "python",
   "nbconvert_exporter": "python",
   "pygments_lexer": "ipython3",
   "version": 3
  },
  "orig_nbformat": 2,
  "kernelspec": {
   "name": "python_defaultSpec_1596238880744",
   "display_name": "Python 3.7.6 64-bit ('johnjairo.ramirez': virtualenv)"
  }
 },
 "nbformat": 4,
 "nbformat_minor": 2,
 "cells": [
  {
   "cell_type": "markdown",
   "metadata": {},
   "source": [
    "<h1 align=\"center\">Clustering Covid-19 Cases in Toronto - Canada</h1>"
   ]
  },
  {
   "cell_type": "markdown",
   "metadata": {},
   "source": [
    "<h2>1. Introduction</h2><br>"
   ]
  },
  {
   "cell_type": "markdown",
   "metadata": {},
   "source": [
    "<h3>1.1 Background</h3>\n",
    "<p align=\"justify\">This year, we are struggling with the Covid – 19 all over the world. This disease has caused thousands of deaths and millions of persons has been infected. Furthermore, we still have not found the vaccine neither and effective treatment to fight this terrible virus. The countries all over the world, has been taking actions like quarantine its population, closing borders and fine the people that are not wearing a facemask to avoid infecting or get infected by the virus.\n",
    "North America is the region with most people affected with this virus with USA in the top of people infected and deceased because of the Covid -19. Despite of this, Canada have been taking excellent actions to avoid the same level of affections and this country, at this moment, has controlling the virus expansion in their territory.\n",
    "Why is happen this in Canada? Well, if we want an insight of how the virus is affecting Canada, we must take this country biggest city  (Toronto) as an example an  see how the Covid -19 evolved there.</p>"
   ]
  },
  {
   "cell_type": "markdown",
   "metadata": {},
   "source": [
    "<h3>1.2 Problem</h3>\n",
    "<p align=\"justify\">We know that Toronto is the most diverse city in the world, a lot of immigrants, international students, workers, and others, decide to live in this beautiful city. Despite of the government restrictions to travel to Canada, there are al lot of movement through their airports,              terminals, and ports. So, that people must have the information about what are the Covid – 19 hot spots in the city.\n",
    "This project objective is to have a good insight about which are the most affected zones in Toronto with Covid -19, exploring the best venues in each neigborhood and cluster the neighborhoods with most infected people to avoid this places at least, until the global emergency ends.</p>"
   ]
  },
  {
   "cell_type": "markdown",
   "metadata": {},
   "source": [
    "<h3>1.3 Interest</h3>\n",
    "<p align=\"justify\">Persons and families arriving in Toronto who wants to know the safest neighborhoods in the city where they can live in and their common venues.</p>"
   ]
  },
  {
   "cell_type": "markdown",
   "metadata": {},
   "source": [
    " <h2>2. Data Description</h2>"
   ]
  },
  {
   "cell_type": "markdown",
   "metadata": {},
   "source": [
    "<h3>2.1 Data Source</h3>\n",
    "<p align=\"justify\">This project will manage two data sources. The first data source will come from the official Toronto city data repository named  open Toronto, specifically from the next url: <a href=\"https://open.toronto.ca/dataset/covid-19-cases-in-toronto/\">Toronto Covid Data</a> in this url it must be downloaded a csv file which contains the following features:\n",
    "            <ul>\n",
    "                <li>_id</li>\n",
    "                <li>Outbreak Associated</li>\n",
    "                <li>Age Group</li>\n",
    "                <li>Neighbourhood Name</li>\n",
    "                <li>FSA</li>\n",
    "                <li>Source of Infection</li>\n",
    "                <li>Classification</li>\n",
    "                <li>Episode Date</li>\n",
    "                <li>Reported Date</li>\n",
    "                <li>Client Gender</li>\n",
    "                <li>Outcome</li>\n",
    "                <li>Currently Hospitalized</li>\n",
    "                <li>Currently in ICU</li>\n",
    "                <li>Currently Intubated</li>\n",
    "                <li>Ever Hospitalized</li>\n",
    "                <li>Ever in ICU</li>\n",
    "                <li>Ever Intubated</li>\n",
    "            </ul><br>\n",
    "The second data source will be a csv file as well. This file is one that was used in the week 3 assignment, the geospatial coordinates for Toronto postal codes. The link through this file will be downloaded is <a href=\"https://cocl.us/Geospatial_data\">Toronto Postal Code Coordinates</a> and their features are:<br>\n",
    "            <ul>\n",
    "                <li>Postal Code</li>\n",
    "                <li>Latitude</li>\n",
    "                <li>Longitude</li>\n",
    "            </ul>\n",
    "            </p>"
   ]
  },
  {
   "cell_type": "markdown",
   "metadata": {},
   "source": [
    "<h3>2.2 Data Approach</h3>\n",
    "<p align=\"justify\">With the Covid-19 cases data is possible to obtain a deep insight to see which are the neighborhoods where the virus is most active and the venues with hot spots of active infected persons. This will help to identify the best places where the newcomers can rent a house avoiding the worst areas. Of course, it is necessary to manipulate, normalize and merge the data from the both sources. \n",
    "The Covid-19 cases data will be the source with most changes because, at a first glance, some of the features are not necessary to solve the problem. Almost all the work for this will be done through the pandas library and its modules and functions.</p>"
   ]
  },
  {
   "cell_type": "markdown",
   "metadata": {},
   "source": [
    " <h2>3. Methodology</h2>"
   ]
  },
  {
   "cell_type": "markdown",
   "metadata": {},
   "source": [
    "<h3>3.1 Data preparation</h3>"
   ]
  },
  {
   "cell_type": "markdown",
   "metadata": {},
   "source": [
    "<h4>3.1.1 Downloading the data</h4>\n",
    "<p align=\"justify\">Fortunately, the city of Toronto has its own data repository where we can simply download and start to work with it. In this case  we get the file <a href=\"https://open.toronto.ca/dataset/covid-19-cases-in-toronto/\">Toronto Covid Data</a> through the wget module and saved in the project directory. Although, this file has the information related to the Toronto Covid cases by neighborhood, we still need the coordinates for each one of the locations and that data can be obtain from the url <a href=\"https://cocl.us/Geospatial_data\">Toronto Postal Code Coordinates</a> that was shared by the Course tutors in previous assignments.</p>\n"
   ]
  },
  {
   "cell_type": "markdown",
   "metadata": {},
   "source": [
    "<h4>3.1.2 Data visualization</h4>\n",
    "<p>Through pandas is possible to review the data downloaded as a dataframe. The dataframe related to Covid-19 cases in Toronto has the following structure:<br>\n",
    "<img src=\"images/Covid_Toronto.png\"><br>\n",
    "The Toronto geospatial dataframe is visualized as follow:<br>\n",
    "<img src=\"images/Geospatial_Toronto.png\"></p>"
   ]
  },
  {
   "cell_type": "markdown",
   "metadata": {},
   "source": [
    "<h4>3.1.3 Data cleaning and normalization</h4>\n",
    "<p>Pandas offers the functions and methods needed for structure a dataframe with the punctual information for the insights. For the Toronto Covid-19 dataframe is necessary to drop columns that are not useful for the project. Also, it is a good practice to rename and get rid of special characters or spaces in the columns names as well to reordering the dataframe. The result of this labor can be seen in the following image:<br>\n",
    "<img src=\"images/Covid_Toronto_Clean.png\"><br>\n",
    "The Toronto geospatial dataframe is already normalized, the only change needed was the Postal Code column name where there was a space between the words:<br>\n",
    "<img src=\"images/Geospatial_Toronto_Clean.png\">\n",
    "</p>"
   ]
  },
  {
   "cell_type": "markdown",
   "metadata": {},
   "source": [
    "<h3>3.2 Understanding the data</h3>\n",
    "<p align=\"justify\">It is fundamental to understand the data that is used to create the insights and models so, explaining each one of the features in the dataframe will help us to correctly validate the project main objective. In the case of the Toronto Covid -19 dataframe the features are the following:\n",
    "<ul>\n",
    "<li>Postal Code: Is the key feature to be able to merge this dataframe with the Toronto geospatial one.</li>\n",
    "<li>Neighborhood: The locations in Toronto where will be cluster the Covid cases to determine the virus focus on the city.</li>\n",
    "<li>Status: This column informs if a case is confirmed or not. For the purposes of the project, the focus will be only the confirmed cases.</li>\n",
    "<li>Outcome: The resolution of the case. This project only will consider the active cases.</li>\n",
    "</ul><br>\n",
    "The Toronto geospatial dataframe has the following columns:\n",
    "<ul>\n",
    "<li>Postal Code: the key column.</li>\n",
    "<li>Latitude: The geospatial data for the neighborhood latitude.</li>\n",
    "<li>Longitude: The geospatial data for the neighborhood longitude.</li>\n",
    "</ul>\n",
    "</p>"
   ]
  },
  {
   "cell_type": "markdown",
   "metadata": {},
   "source": [
    "<h3>3.3 Merging the data</h3>\n",
    "<p aling=\"justify\">The final process in the data manipulation (in this project) is merging both DataFrames, in this phase the columns Neighborhood and Postal Code will be combined, both are string so, it will not problem to do this task. Additionally, it is important to insert a new column with the total cases by each neighborhood, which will be the most important data when we cluster the cases in the Toronto map. The result of the merging is the next dataframe:<br>\n",
    "<img src=\"images/Covid_Toronto_Merged.png\">\n",
    "</p>"
   ]
  },
  {
   "cell_type": "markdown",
   "metadata": {},
   "source": [
    "<h3>3.4 Exploratory data analysis</h3>\n",
    "<p align=\"justify\">In this project we clustered the Covid-19 case in the city of Toronto through two methods, the Kmeans clustering which allows to create an n clusters and obtaining interesting insights of the Covid -19 actual condition in Toronto and, the FastMarkerCluster which is a Folium tool (Folium is a Python library for create maps) that do the clustering work automatically.</p>"
   ]
  },
  {
   "cell_type": "markdown",
   "metadata": {},
   "source": [
    "<h4>3.4.1 Kmeans clustering</h4>\n",
    "<p>With the Kmeans method included in the Sci K-learn library, where create the clusters and fitting them into a new dataframe with only numeric values.<br>\n",
    "<img src=\"images/Cluster_Kmeans.png\"><br>\n",
    "This is necessary because the cluster are arrays that will be included in that new dataframe. The result of this process can be seen in the following image:<br>\n",
    "<img src=\"images/Clustered_Toronto.png\"><br>\n",
    "When this info it is display in a map, we easily detect (in the darker circles) where are the neighborhoods with most Covid cases. For a newcomer, this info can be very important considering that he must rent a house o department in Toronto.<br>\n",
    "<img src=\"images/Map_Cluster_Toronto.png\"><br>\n",
    "Clicking in the circles will display a popup is display with more info about the cluster like, neighborhood name, postal code, and active cases number.<br>\n",
    "<img src=\"images/Map_Cluster_Toronto_Zoom.png\">\n",
    "</p>"
   ]
  },
  {
   "cell_type": "markdown",
   "metadata": {},
   "source": [
    "<h4>3.4.1 FastMarkerCluster clustering</h4>\n",
    "<p>This Folium option allow us to cluster the dataframe in two code lines and the insights are more dynamic by default. Of course, if we want to do more detailed insights and modifications, this option is more limited that the Kmeans method but, if we need a brief insight it will enough.<br>\n",
    "<img src=\"images/FastMarkerCluster_Toronto.png\"><br>\n",
    "<img src=\"images/Map_FastMarkerCluster_Toronto.png\"><br>\n",
    "Zooming it<br>\n",
    "<img src=\"images/Map_FastMarkerCluster_Toronto_Zoom.png\">\n",
    "</p>"
   ]
  },
  {
   "cell_type": "markdown",
   "metadata": {},
   "source": [
    "<h2>4. Results</h2>\n",
    "<p>The insights obtained were interesting and would give to the reader a general view about the Covid – 19 situations in Toronto. We can summarize the situation in the next list:\n",
    "<ul>\n",
    "<li>The center and west Toronto are the most affected by the virus. Almost 2/3 of the active cases are in those areas.</li>\n",
    "<li>The east of Toronto has less cases as well the city peripheries.</li>\n",
    "<li>Centre Island, Yorkdale-Glen Park, Willowridge-Martingrove-Richview, West Humber-Clairville are the most affected neighborhoods in Toronto.</li>\n",
    "<li>The most populated areas are the most affected, this can be obvious but, is confirmed by the data analysis done.</li>\n",
    "<ul>\n",
    "</p>"
   ]
  },
  {
   "cell_type": "markdown",
   "metadata": {},
   "source": [
    "<h2>5. Discussion</h2>\n",
    "<p align=\"justify\">We have a big picture about the situation in Toronto with the Covid-19 but, we only used for the insights the last data report from the webpage Open Toronto. We cannot confirm in this project if the case numbers are descending or ascending, and of course we must consider the normal delay in the reports. Additionally, the Canadian government is taking actions to counter the virus spread so, if a neighborhood has a lot of cases that do not mean that the virus is out of control over there.<br>\n",
    "Remember that Toronto (the city) has almost 3 million of inhabitants and this project is based in 133 active cases! So, this information is for get the knowledge but not for take decisions based only on the insights offered.\n",
    "</p>"
   ]
  },
  {
   "cell_type": "markdown",
   "metadata": {},
   "source": [
    "<h2>6. Discussion</h2>\n",
    "<p align=\"justify\">This year has been one of the most defiant in this century. The Covid spread all over the word has change the way that we perceived the world and the data is not an exception. Almost all the governments and institutions inform the people about the actual situation through deep insight of the data compiled.<br>\n",
    "Nowadays, taking decisions must be based on data analysis as well this project objective. Toronto as a international and multicultural city has a big immigrant movement so, it is fundamental for the newcomers to get the most accurate information about the current situation and, this project must help them to obtain a little piece of that puzzle.<br>\n",
    "The decision of where to rent a house for living is not a simple task, furthermore the Covid problem, the persons must think about the normal problems like, the cost of living or the criminal situation in the area. So, the reader that see this data insights cannot take the determination of live in certain area in Toronto only based in this information but, making its own analysis and size up the pros and contras of the neighborhood chosen.\n",
    "</p>"
   ]
  }
 ]
}