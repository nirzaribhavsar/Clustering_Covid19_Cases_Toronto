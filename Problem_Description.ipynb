{
 "metadata": {
  "language_info": {
   "codemirror_mode": {
    "name": "ipython",
    "version": 3
   },
   "file_extension": ".py",
   "mimetype": "text/x-python",
   "name": "python",
   "nbconvert_exporter": "python",
   "pygments_lexer": "ipython3",
   "version": 3
  },
  "orig_nbformat": 2,
  "kernelspec": {
   "name": "python_defaultSpec_1595721410502",
   "display_name": "Python 3.7.6 64-bit ('johnjairo.ramirez': virtualenv)"
  }
 },
 "nbformat": 4,
 "nbformat_minor": 2,
 "cells": [
  {
   "cell_type": "markdown",
   "metadata": {},
   "source": [
    "<div align=\"center\">\n",
    "    <h1>Clustering Covid-19 Cases in Toronto - Canada</h1>\n",
    "</div>"
   ]
  },
  {
   "cell_type": "markdown",
   "metadata": {},
   "source": [
    "<h2>1. Introduction</h2>"
   ]
  },
  {
   "cell_type": "markdown",
   "metadata": {},
   "source": [
    "<h3>1.1 Background</h3>"
   ]
  },
  {
   "cell_type": "markdown",
   "metadata": {},
   "source": [
    "<p align=\"justify\">This year, we are struggling with the Covid – 19 all over the world. This disease has caused thousands of deaths and millions of persons has been infected. Furthermore, we still have not found the vaccine neither and effective treatment to fight this terrible virus. The countries all over the world, has been taking actions like quarantine its population, closing borders and fine the people that are not wearing a facemask to avoid infecting or get infected by the virus.<br><br>\n",
    "North America is the region with most people affected with this virus with USA in the top of people infected and deceased because of the Covid -19. Despite of this, Canada have been taking excellent actions to avoid the same level of affections and this country, at this moment, has controlling the virus expansion in their territory.<br><br>Why is happen this in Canada? Well, if we want an insight of how the virus is affecting Canada, we must take this country biggest city (Toronto) as an example an see how the Covid -19 evolved there.</p>"
   ]
  },
  {
   "cell_type": "markdown",
   "metadata": {},
   "source": [
    "<h3>1.2 Problem</h3>"
   ]
  },
  {
   "cell_type": "markdown",
   "metadata": {},
   "source": [
    "<p align=\"justify\">We know that Toronto is the most diverse city in the world, a lot of immigrants, international students, workers, and others, decide to live in this beautiful city. Despite of the government restrictions to travel to Canada, there are al lot of movement through their airports, terminals, and ports. So, that people must have the information about what are the Covid – 19 hot spots in the city.<br><br>This project objective is to have a good insight about which are the most affected zones in Toronto with Covid -19, exploring the best venues in each neigborhood and cluster the neighborhoods with most infected people to avoid this places at least, until the global emergency ends.</p>"
   ]
  },
  {
   "cell_type": "markdown",
   "metadata": {},
   "source": [
    "<h3>1.3 Interest</h3>"
   ]
  },
  {
   "cell_type": "markdown",
   "metadata": {},
   "source": [
    "<p align=\"justify\">Persons and families arriving in Toronto who wants to know the safest neighborhoods in the city where they can live in and their common venues.</p>"
   ]
  },
  {
   "cell_type": "code",
   "execution_count": null,
   "metadata": {},
   "outputs": [],
   "source": []
  }
 ]
}