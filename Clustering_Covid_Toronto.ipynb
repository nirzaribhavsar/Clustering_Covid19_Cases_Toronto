{
 "metadata": {
  "language_info": {
   "codemirror_mode": {
    "name": "ipython",
    "version": 3
   },
   "file_extension": ".py",
   "mimetype": "text/x-python",
   "name": "python",
   "nbconvert_exporter": "python",
   "pygments_lexer": "ipython3",
   "version": 3
  },
  "orig_nbformat": 2,
  "kernelspec": {
   "name": "python_defaultSpec_1595785071465",
   "display_name": "Python 3.7.6 64-bit ('base': conda)"
  }
 },
 "nbformat": 4,
 "nbformat_minor": 2,
 "cells": [
  {
   "cell_type": "markdown",
   "metadata": {},
   "source": [
    "<h1 align=\"center\">Clustering Covid-19 Cases in Toronto - Canada</h1>"
   ]
  },
  {
   "cell_type": "markdown",
   "metadata": {},
   "source": [
    "<p align=\"justify\">In this notebook we are going to cluster the data related to the Covid-19 cases in the city of Toronto, Canada. To accomplish this, we must download the data sources from the following URLs: <a href=\"https://open.toronto.ca/dataset/covid-19-cases-in-toronto/\">Toronto Covid Data</a> and <a href=\"https://cocl.us/Geospatial_data\">Toronto Postal Code Coordinates</a>.Of course it will be necessary to clean and normalize the data to be able to get the visual insight that we are looking for in the project. The main goal is to see the cluster distribution if the Covid-19 cases in the city of Toronto at the date of the data downloaded, with this, the people arriving to Toronto can be informed about the virus hot spots and, they will avoid the venues in the neighborhoods with most active cases of this disease.</p>"
   ]
  },
  {
   "cell_type": "markdown",
   "metadata": {},
   "source": [
    "<h2>1. Managing the Data</h2>"
   ]
  },
  {
   "cell_type": "markdown",
   "metadata": {},
   "source": [
    "<h3>1.1 Downloading the data</h3>\n",
    "<p>We must obtain the csv files to get the data for our insights. To do this, we must import the <b>Pandas</b> and <b>Wget</b> libraries</p>"
   ]
  },
  {
   "cell_type": "code",
   "execution_count": 1,
   "metadata": {
    "tags": []
   },
   "outputs": [
    {
     "output_type": "stream",
     "name": "stdout",
     "text": "Libraries imported!\n"
    }
   ],
   "source": [
    "import pandas as pd\n",
    "import wget\n",
    "print(\"Libraries imported!\")"
   ]
  },
  {
   "cell_type": "markdown",
   "metadata": {},
   "source": [
    "<p>Proceeding to download the data from their respective sources. Both files will be saved in the project folder</p>"
   ]
  },
  {
   "cell_type": "code",
   "execution_count": 2,
   "metadata": {
    "tags": []
   },
   "outputs": [
    {
     "output_type": "stream",
     "name": "stdout",
     "text": "Csv files downloaded!\n"
    }
   ],
   "source": [
    "covid_csv = wget.download(\"https://ckan0.cf.opendata.inter.prod-toronto.ca/download_resource/e5bf35bc-e681-43da-b2ce-0242d00922ad?format=csv\")\n",
    "coordinates_csv = wget.download(\"https://cocl.us/Geospatial_data\")\n",
    "print(\"Csv files downloaded!\")"
   ]
  },
  {
   "cell_type": "markdown",
   "metadata": {},
   "source": [
    "<h3>1.2 Transforming the data</h3>\n",
    "<p>With the csv files in our project folder, we have to convert those files into pandas dataframe. Of course, pandas has the tools to do this task</p>"
   ]
  },
  {
   "cell_type": "code",
   "execution_count": 140,
   "metadata": {
    "tags": []
   },
   "outputs": [
    {
     "output_type": "stream",
     "name": "stdout",
     "text": "Dataframe conversion done\n"
    }
   ],
   "source": [
    "covid_df = pd.read_csv(covid_csv)\n",
    "coordinates_df = pd.read_csv(coordinates_csv)\n",
    "print(\"Dataframe conversion done\")"
   ]
  },
  {
   "cell_type": "markdown",
   "metadata": {},
   "source": [
    "<p></p>Let's check our dataframes"
   ]
  },
  {
   "cell_type": "code",
   "execution_count": 141,
   "metadata": {},
   "outputs": [
    {
     "output_type": "execute_result",
     "data": {
      "text/plain": "     _id  Outbreak Associated Age Group Neighbourhood Name  FSA  \\\n0  44294             Sporadic     50-59            Malvern  M1B   \n1  44295             Sporadic     20-29            Malvern  M1B   \n2  44296             Sporadic     60-69            Malvern  M1B   \n3  44297  Outbreak Associated     50-59              Rouge  M1B   \n4  44298             Sporadic     30-39              Rouge  M1B   \n\n         Source of Infection Classification Episode Date Reported Date  \\\n0              Institutional      CONFIRMED   2020-03-25    2020-03-27   \n1                  Community      CONFIRMED   2020-03-20    2020-03-28   \n2                     Travel      CONFIRMED   2020-03-04    2020-03-08   \n3  N/A - Outbreak associated      CONFIRMED   2020-05-02    2020-05-04   \n4              Close contact      CONFIRMED   2020-05-31    2020-06-06   \n\n  Client Gender   Outcome Currently Hospitalized Currently in ICU  \\\n0          MALE  RESOLVED                     No               No   \n1          MALE  RESOLVED                     No               No   \n2        FEMALE  RESOLVED                     No               No   \n3        FEMALE  RESOLVED                     No               No   \n4        FEMALE  RESOLVED                     No               No   \n\n  Currently Intubated Ever Hospitalized Ever in ICU Ever Intubated  \n0                  No                No          No             No  \n1                  No               Yes          No             No  \n2                  No               Yes         Yes            Yes  \n3                  No                No          No             No  \n4                  No                No          No             No  ",
      "text/html": "<div>\n<style scoped>\n    .dataframe tbody tr th:only-of-type {\n        vertical-align: middle;\n    }\n\n    .dataframe tbody tr th {\n        vertical-align: top;\n    }\n\n    .dataframe thead th {\n        text-align: right;\n    }\n</style>\n<table border=\"1\" class=\"dataframe\">\n  <thead>\n    <tr style=\"text-align: right;\">\n      <th></th>\n      <th>_id</th>\n      <th>Outbreak Associated</th>\n      <th>Age Group</th>\n      <th>Neighbourhood Name</th>\n      <th>FSA</th>\n      <th>Source of Infection</th>\n      <th>Classification</th>\n      <th>Episode Date</th>\n      <th>Reported Date</th>\n      <th>Client Gender</th>\n      <th>Outcome</th>\n      <th>Currently Hospitalized</th>\n      <th>Currently in ICU</th>\n      <th>Currently Intubated</th>\n      <th>Ever Hospitalized</th>\n      <th>Ever in ICU</th>\n      <th>Ever Intubated</th>\n    </tr>\n  </thead>\n  <tbody>\n    <tr>\n      <th>0</th>\n      <td>44294</td>\n      <td>Sporadic</td>\n      <td>50-59</td>\n      <td>Malvern</td>\n      <td>M1B</td>\n      <td>Institutional</td>\n      <td>CONFIRMED</td>\n      <td>2020-03-25</td>\n      <td>2020-03-27</td>\n      <td>MALE</td>\n      <td>RESOLVED</td>\n      <td>No</td>\n      <td>No</td>\n      <td>No</td>\n      <td>No</td>\n      <td>No</td>\n      <td>No</td>\n    </tr>\n    <tr>\n      <th>1</th>\n      <td>44295</td>\n      <td>Sporadic</td>\n      <td>20-29</td>\n      <td>Malvern</td>\n      <td>M1B</td>\n      <td>Community</td>\n      <td>CONFIRMED</td>\n      <td>2020-03-20</td>\n      <td>2020-03-28</td>\n      <td>MALE</td>\n      <td>RESOLVED</td>\n      <td>No</td>\n      <td>No</td>\n      <td>No</td>\n      <td>Yes</td>\n      <td>No</td>\n      <td>No</td>\n    </tr>\n    <tr>\n      <th>2</th>\n      <td>44296</td>\n      <td>Sporadic</td>\n      <td>60-69</td>\n      <td>Malvern</td>\n      <td>M1B</td>\n      <td>Travel</td>\n      <td>CONFIRMED</td>\n      <td>2020-03-04</td>\n      <td>2020-03-08</td>\n      <td>FEMALE</td>\n      <td>RESOLVED</td>\n      <td>No</td>\n      <td>No</td>\n      <td>No</td>\n      <td>Yes</td>\n      <td>Yes</td>\n      <td>Yes</td>\n    </tr>\n    <tr>\n      <th>3</th>\n      <td>44297</td>\n      <td>Outbreak Associated</td>\n      <td>50-59</td>\n      <td>Rouge</td>\n      <td>M1B</td>\n      <td>N/A - Outbreak associated</td>\n      <td>CONFIRMED</td>\n      <td>2020-05-02</td>\n      <td>2020-05-04</td>\n      <td>FEMALE</td>\n      <td>RESOLVED</td>\n      <td>No</td>\n      <td>No</td>\n      <td>No</td>\n      <td>No</td>\n      <td>No</td>\n      <td>No</td>\n    </tr>\n    <tr>\n      <th>4</th>\n      <td>44298</td>\n      <td>Sporadic</td>\n      <td>30-39</td>\n      <td>Rouge</td>\n      <td>M1B</td>\n      <td>Close contact</td>\n      <td>CONFIRMED</td>\n      <td>2020-05-31</td>\n      <td>2020-06-06</td>\n      <td>FEMALE</td>\n      <td>RESOLVED</td>\n      <td>No</td>\n      <td>No</td>\n      <td>No</td>\n      <td>No</td>\n      <td>No</td>\n      <td>No</td>\n    </tr>\n  </tbody>\n</table>\n</div>"
     },
     "metadata": {},
     "execution_count": 141
    }
   ],
   "source": [
    "# Toronto Covid-19 dataframe\n",
    "covid_df.head()"
   ]
  },
  {
   "cell_type": "code",
   "execution_count": 142,
   "metadata": {},
   "outputs": [
    {
     "output_type": "execute_result",
     "data": {
      "text/plain": "  Postal_Code   Latitude  Longitude\n0         M1B  43.806686 -79.194353\n1         M1C  43.784535 -79.160497\n2         M1E  43.763573 -79.188711\n3         M1G  43.770992 -79.216917\n4         M1H  43.773136 -79.239476",
      "text/html": "<div>\n<style scoped>\n    .dataframe tbody tr th:only-of-type {\n        vertical-align: middle;\n    }\n\n    .dataframe tbody tr th {\n        vertical-align: top;\n    }\n\n    .dataframe thead th {\n        text-align: right;\n    }\n</style>\n<table border=\"1\" class=\"dataframe\">\n  <thead>\n    <tr style=\"text-align: right;\">\n      <th></th>\n      <th>Postal_Code</th>\n      <th>Latitude</th>\n      <th>Longitude</th>\n    </tr>\n  </thead>\n  <tbody>\n    <tr>\n      <th>0</th>\n      <td>M1B</td>\n      <td>43.806686</td>\n      <td>-79.194353</td>\n    </tr>\n    <tr>\n      <th>1</th>\n      <td>M1C</td>\n      <td>43.784535</td>\n      <td>-79.160497</td>\n    </tr>\n    <tr>\n      <th>2</th>\n      <td>M1E</td>\n      <td>43.763573</td>\n      <td>-79.188711</td>\n    </tr>\n    <tr>\n      <th>3</th>\n      <td>M1G</td>\n      <td>43.770992</td>\n      <td>-79.216917</td>\n    </tr>\n    <tr>\n      <th>4</th>\n      <td>M1H</td>\n      <td>43.773136</td>\n      <td>-79.239476</td>\n    </tr>\n  </tbody>\n</table>\n</div>"
     },
     "metadata": {},
     "execution_count": 142
    }
   ],
   "source": [
    "# Toronto Coordinates Dataframe\n",
    "coordinates_df.head()"
   ]
  },
  {
   "cell_type": "markdown",
   "metadata": {},
   "source": [
    "<h3>1.3 Cleaning and normalizing the data</h3>\n",
    "<p align=\"justify\">Observing the dataframes is obvious that it will be necessary to clean and normalize the Toronto Covid dataframes because, we will not need all the info there. For our project we only need the following features: Neighborhood name, FSA(Postal Code), Classification and Outcome. Let's work on it</p>"
   ]
  },
  {
   "cell_type": "code",
   "execution_count": 143,
   "metadata": {},
   "outputs": [
    {
     "output_type": "execute_result",
     "data": {
      "text/plain": "  Neighbourhood Name  FSA Classification   Outcome\n0            Malvern  M1B      CONFIRMED  RESOLVED\n1            Malvern  M1B      CONFIRMED  RESOLVED\n2            Malvern  M1B      CONFIRMED  RESOLVED\n3              Rouge  M1B      CONFIRMED  RESOLVED\n4              Rouge  M1B      CONFIRMED  RESOLVED",
      "text/html": "<div>\n<style scoped>\n    .dataframe tbody tr th:only-of-type {\n        vertical-align: middle;\n    }\n\n    .dataframe tbody tr th {\n        vertical-align: top;\n    }\n\n    .dataframe thead th {\n        text-align: right;\n    }\n</style>\n<table border=\"1\" class=\"dataframe\">\n  <thead>\n    <tr style=\"text-align: right;\">\n      <th></th>\n      <th>Neighbourhood Name</th>\n      <th>FSA</th>\n      <th>Classification</th>\n      <th>Outcome</th>\n    </tr>\n  </thead>\n  <tbody>\n    <tr>\n      <th>0</th>\n      <td>Malvern</td>\n      <td>M1B</td>\n      <td>CONFIRMED</td>\n      <td>RESOLVED</td>\n    </tr>\n    <tr>\n      <th>1</th>\n      <td>Malvern</td>\n      <td>M1B</td>\n      <td>CONFIRMED</td>\n      <td>RESOLVED</td>\n    </tr>\n    <tr>\n      <th>2</th>\n      <td>Malvern</td>\n      <td>M1B</td>\n      <td>CONFIRMED</td>\n      <td>RESOLVED</td>\n    </tr>\n    <tr>\n      <th>3</th>\n      <td>Rouge</td>\n      <td>M1B</td>\n      <td>CONFIRMED</td>\n      <td>RESOLVED</td>\n    </tr>\n    <tr>\n      <th>4</th>\n      <td>Rouge</td>\n      <td>M1B</td>\n      <td>CONFIRMED</td>\n      <td>RESOLVED</td>\n    </tr>\n  </tbody>\n</table>\n</div>"
     },
     "metadata": {},
     "execution_count": 143
    }
   ],
   "source": [
    "# Drop the columns in the Covid-19 dataframe that are not necessary for our project\n",
    "covid_df.drop(columns=[ '_id', 'Outbreak Associated', 'Age Group', 'Source of Infection', 'Episode Date', 'Reported Date', 'Client Gender', 'Currently Hospitalized', 'Currently in ICU', 'Currently Intubated', 'Ever Hospitalized', 'Ever in ICU', 'Ever Intubated'], inplace=True)\n",
    "covid_df.head()"
   ]
  },
  {
   "cell_type": "markdown",
   "metadata": {},
   "source": [
    "<p>We already have the data that we will use, but lets rename some of the columns to names with more sense and order the columns position for a better view</p>"
   ]
  },
  {
   "cell_type": "code",
   "execution_count": 144,
   "metadata": {},
   "outputs": [
    {
     "output_type": "execute_result",
     "data": {
      "text/plain": "  Postal_Code Neighborhood     Status   Outcome\n0         M1B      Malvern  CONFIRMED  RESOLVED\n1         M1B      Malvern  CONFIRMED  RESOLVED\n2         M1B      Malvern  CONFIRMED  RESOLVED\n3         M1B        Rouge  CONFIRMED  RESOLVED\n4         M1B        Rouge  CONFIRMED  RESOLVED",
      "text/html": "<div>\n<style scoped>\n    .dataframe tbody tr th:only-of-type {\n        vertical-align: middle;\n    }\n\n    .dataframe tbody tr th {\n        vertical-align: top;\n    }\n\n    .dataframe thead th {\n        text-align: right;\n    }\n</style>\n<table border=\"1\" class=\"dataframe\">\n  <thead>\n    <tr style=\"text-align: right;\">\n      <th></th>\n      <th>Postal_Code</th>\n      <th>Neighborhood</th>\n      <th>Status</th>\n      <th>Outcome</th>\n    </tr>\n  </thead>\n  <tbody>\n    <tr>\n      <th>0</th>\n      <td>M1B</td>\n      <td>Malvern</td>\n      <td>CONFIRMED</td>\n      <td>RESOLVED</td>\n    </tr>\n    <tr>\n      <th>1</th>\n      <td>M1B</td>\n      <td>Malvern</td>\n      <td>CONFIRMED</td>\n      <td>RESOLVED</td>\n    </tr>\n    <tr>\n      <th>2</th>\n      <td>M1B</td>\n      <td>Malvern</td>\n      <td>CONFIRMED</td>\n      <td>RESOLVED</td>\n    </tr>\n    <tr>\n      <th>3</th>\n      <td>M1B</td>\n      <td>Rouge</td>\n      <td>CONFIRMED</td>\n      <td>RESOLVED</td>\n    </tr>\n    <tr>\n      <th>4</th>\n      <td>M1B</td>\n      <td>Rouge</td>\n      <td>CONFIRMED</td>\n      <td>RESOLVED</td>\n    </tr>\n  </tbody>\n</table>\n</div>"
     },
     "metadata": {},
     "execution_count": 144
    }
   ],
   "source": [
    "# Let's rename the columns Neighbourhood Name, Classification and FSA\n",
    "covid_df.rename(columns={'Neighbourhood Name': 'Neighborhood', 'FSA': 'Postal_Code', 'Classification': 'Status'}, inplace=True)\n",
    "\n",
    "# Reordering the columns positions\n",
    "\n",
    "covid_reduced_df = covid_df[['Postal_Code', 'Neighborhood', 'Status', 'Outcome']]\n",
    "covid_reduced_df.head()"
   ]
  },
  {
   "cell_type": "markdown",
   "metadata": {},
   "source": [
    "<p>Now, we are going to clean the data, we will follow the next instructions:<br>\n",
    "<ul>\n",
    "<li>Drop the nan/null values in Postal Code, because without this data we cannot map the Neighborhood</li>\n",
    "<li>The nan/null values in the Neighborhood column will be replaced by the Postal Code value</li>\n",
    "<li>In the Status column, we only need the current confirmed cases</li>\n",
    "<li>In the Outcome column, we only need the current active cases</li>\n",
    "</ul>\n",
    "</p>"
   ]
  },
  {
   "cell_type": "code",
   "execution_count": 145,
   "metadata": {},
   "outputs": [
    {
     "output_type": "execute_result",
     "data": {
      "text/plain": "(14911, 4)"
     },
     "metadata": {},
     "execution_count": 145
    }
   ],
   "source": [
    "# Before the changes let's check the dataframe shape\n",
    "covid_reduced_df.shape"
   ]
  },
  {
   "cell_type": "code",
   "execution_count": 146,
   "metadata": {},
   "outputs": [
    {
     "output_type": "execute_result",
     "data": {
      "text/plain": "(14344, 4)"
     },
     "metadata": {},
     "execution_count": 146
    }
   ],
   "source": [
    "# Drop the nan/null values in the Postal Code column\n",
    "covid_reduced_df.dropna(subset=['Postal_Code'], inplace=True)\n",
    "covid_reduced_df.shape"
   ]
  },
  {
   "cell_type": "code",
   "execution_count": 147,
   "metadata": {
    "tags": []
   },
   "outputs": [
    {
     "output_type": "stream",
     "name": "stdout",
     "text": "46\n"
    }
   ],
   "source": [
    "# Fill the nan/null values in Neigborhood with the Postal Code. First, we must now how many records in Neighborhood without data we have in the dataframe\n",
    "count = covid_reduced_df[\"Neighborhood\"].isna().sum()\n",
    "print(count)"
   ]
  },
  {
   "cell_type": "code",
   "execution_count": 148,
   "metadata": {
    "tags": []
   },
   "outputs": [
    {
     "output_type": "stream",
     "name": "stdout",
     "text": "0\n"
    }
   ],
   "source": [
    "# Lets replace the null data in Neighborhoods\n",
    "covid_reduced_df.Neighborhood.fillna(covid_reduced_df.Postal_Code, inplace=True)\n",
    "\n",
    "# Checking if there are still some null rows\n",
    "count = covid_reduced_df[\"Neighborhood\"].isna().sum()\n",
    "print(count)"
   ]
  },
  {
   "cell_type": "code",
   "execution_count": 149,
   "metadata": {},
   "outputs": [
    {
     "output_type": "execute_result",
     "data": {
      "text/plain": "(13262, 4)"
     },
     "metadata": {},
     "execution_count": 149
    }
   ],
   "source": [
    "# Removing values that are not necessary in the column Status\n",
    "\n",
    "covid_clean_df = covid_reduced_df[covid_reduced_df.Status == 'CONFIRMED']\n",
    "covid_clean_df.shape"
   ]
  },
  {
   "cell_type": "code",
   "execution_count": 150,
   "metadata": {},
   "outputs": [
    {
     "output_type": "execute_result",
     "data": {
      "text/plain": "           Postal_Code  Neighborhood  Outcome\nStatus                                       \nCONFIRMED        13262         13262    13262",
      "text/html": "<div>\n<style scoped>\n    .dataframe tbody tr th:only-of-type {\n        vertical-align: middle;\n    }\n\n    .dataframe tbody tr th {\n        vertical-align: top;\n    }\n\n    .dataframe thead th {\n        text-align: right;\n    }\n</style>\n<table border=\"1\" class=\"dataframe\">\n  <thead>\n    <tr style=\"text-align: right;\">\n      <th></th>\n      <th>Postal_Code</th>\n      <th>Neighborhood</th>\n      <th>Outcome</th>\n    </tr>\n    <tr>\n      <th>Status</th>\n      <th></th>\n      <th></th>\n      <th></th>\n    </tr>\n  </thead>\n  <tbody>\n    <tr>\n      <th>CONFIRMED</th>\n      <td>13262</td>\n      <td>13262</td>\n      <td>13262</td>\n    </tr>\n  </tbody>\n</table>\n</div>"
     },
     "metadata": {},
     "execution_count": 150
    }
   ],
   "source": [
    "# Check if we have rows in Status with other values than CONFIRMED\n",
    "\n",
    "covid_clean_df.groupby(by='Status').agg('count')"
   ]
  },
  {
   "cell_type": "code",
   "execution_count": 151,
   "metadata": {},
   "outputs": [
    {
     "output_type": "execute_result",
     "data": {
      "text/plain": "(532, 4)"
     },
     "metadata": {},
     "execution_count": 151
    }
   ],
   "source": [
    "# Removing values that are not necessary in the column Outcome\n",
    "\n",
    "covid_clean_df = covid_clean_df[covid_clean_df.Outcome == 'ACTIVE']\n",
    "covid_clean_df.shape"
   ]
  },
  {
   "cell_type": "code",
   "execution_count": 152,
   "metadata": {},
   "outputs": [
    {
     "output_type": "execute_result",
     "data": {
      "text/plain": "         Postal_Code  Neighborhood  Status\nOutcome                                   \nACTIVE           532           532     532",
      "text/html": "<div>\n<style scoped>\n    .dataframe tbody tr th:only-of-type {\n        vertical-align: middle;\n    }\n\n    .dataframe tbody tr th {\n        vertical-align: top;\n    }\n\n    .dataframe thead th {\n        text-align: right;\n    }\n</style>\n<table border=\"1\" class=\"dataframe\">\n  <thead>\n    <tr style=\"text-align: right;\">\n      <th></th>\n      <th>Postal_Code</th>\n      <th>Neighborhood</th>\n      <th>Status</th>\n    </tr>\n    <tr>\n      <th>Outcome</th>\n      <th></th>\n      <th></th>\n      <th></th>\n    </tr>\n  </thead>\n  <tbody>\n    <tr>\n      <th>ACTIVE</th>\n      <td>532</td>\n      <td>532</td>\n      <td>532</td>\n    </tr>\n  </tbody>\n</table>\n</div>"
     },
     "metadata": {},
     "execution_count": 152
    }
   ],
   "source": [
    "# Check if we have rows in Outcome with other values than ACTIVE\n",
    "\n",
    "covid_clean_df.groupby(by='Outcome').agg('count')"
   ]
  },
  {
   "cell_type": "markdown",
   "metadata": {},
   "source": [
    "<p>Ok, we finished this data cleaning, we start with a dataframe with 14911 records and was filtered until get 532 records, lets go with the final part of the data managing</p>"
   ]
  },
  {
   "cell_type": "markdown",
   "metadata": {},
   "source": [
    "<h3>1.4 Merging the dataframes</h3>\n",
    "<p>With both dataframes ready, we will proceed to merge the Latitude and Longitude from the coordinates_df to the covid_clean_df to get a new dataframe called covid_toronto_df</p>"
   ]
  },
  {
   "cell_type": "code",
   "execution_count": 154,
   "metadata": {},
   "outputs": [
    {
     "output_type": "execute_result",
     "data": {
      "text/plain": "  Postal_Code Neighborhood     Status Outcome   Latitude  Longitude\n0         M1B        Rouge  CONFIRMED  ACTIVE  43.806686 -79.194353\n1         M1B        Rouge  CONFIRMED  ACTIVE  43.806686 -79.194353\n2         M1B      Malvern  CONFIRMED  ACTIVE  43.806686 -79.194353\n3         M1B      Malvern  CONFIRMED  ACTIVE  43.806686 -79.194353\n4         M1B      Malvern  CONFIRMED  ACTIVE  43.806686 -79.194353",
      "text/html": "<div>\n<style scoped>\n    .dataframe tbody tr th:only-of-type {\n        vertical-align: middle;\n    }\n\n    .dataframe tbody tr th {\n        vertical-align: top;\n    }\n\n    .dataframe thead th {\n        text-align: right;\n    }\n</style>\n<table border=\"1\" class=\"dataframe\">\n  <thead>\n    <tr style=\"text-align: right;\">\n      <th></th>\n      <th>Postal_Code</th>\n      <th>Neighborhood</th>\n      <th>Status</th>\n      <th>Outcome</th>\n      <th>Latitude</th>\n      <th>Longitude</th>\n    </tr>\n  </thead>\n  <tbody>\n    <tr>\n      <th>0</th>\n      <td>M1B</td>\n      <td>Rouge</td>\n      <td>CONFIRMED</td>\n      <td>ACTIVE</td>\n      <td>43.806686</td>\n      <td>-79.194353</td>\n    </tr>\n    <tr>\n      <th>1</th>\n      <td>M1B</td>\n      <td>Rouge</td>\n      <td>CONFIRMED</td>\n      <td>ACTIVE</td>\n      <td>43.806686</td>\n      <td>-79.194353</td>\n    </tr>\n    <tr>\n      <th>2</th>\n      <td>M1B</td>\n      <td>Malvern</td>\n      <td>CONFIRMED</td>\n      <td>ACTIVE</td>\n      <td>43.806686</td>\n      <td>-79.194353</td>\n    </tr>\n    <tr>\n      <th>3</th>\n      <td>M1B</td>\n      <td>Malvern</td>\n      <td>CONFIRMED</td>\n      <td>ACTIVE</td>\n      <td>43.806686</td>\n      <td>-79.194353</td>\n    </tr>\n    <tr>\n      <th>4</th>\n      <td>M1B</td>\n      <td>Malvern</td>\n      <td>CONFIRMED</td>\n      <td>ACTIVE</td>\n      <td>43.806686</td>\n      <td>-79.194353</td>\n    </tr>\n  </tbody>\n</table>\n</div>"
     },
     "metadata": {},
     "execution_count": 154
    }
   ],
   "source": [
    "# We need to reset the index in the covid_clean_df\n",
    "\n",
    "covid_clean_df.reset_index(inplace=True, drop=True)\n",
    "\n",
    "# Merge the Latitude and Longitude postal code values\n",
    "\n",
    "covid_toronto_df = pd.merge(covid_clean_df, coordinates_df, on='Postal_Code')\n",
    "covid_toronto_df.head()"
   ]
  },
  {
   "cell_type": "code",
   "execution_count": 155,
   "metadata": {},
   "outputs": [
    {
     "output_type": "execute_result",
     "data": {
      "text/plain": "(532, 6)"
     },
     "metadata": {},
     "execution_count": 155
    }
   ],
   "source": [
    "# Check the dataframe shape\n",
    "covid_toronto_df.shape"
   ]
  }
 ]
}